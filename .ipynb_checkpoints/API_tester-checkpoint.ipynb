{
 "cells": [
  {
   "cell_type": "code",
   "execution_count": 29,
   "id": "1bdcefa9",
   "metadata": {},
   "outputs": [],
   "source": [
    "import sys\n",
    "import os, stat\n",
    "import wget\n",
    "import time\n",
    "import requests\n",
    "import datetime\n",
    "import uszipcode\n",
    "import json"
   ]
  },
  {
   "cell_type": "code",
   "execution_count": 30,
   "id": "c6f768ea",
   "metadata": {},
   "outputs": [
    {
     "data": {
      "text/plain": [
       "True"
      ]
     },
     "execution_count": 30,
     "metadata": {},
     "output_type": "execute_result"
    }
   ],
   "source": [
    "from dotenv import load_dotenv, find_dotenv\n",
    "load_dotenv(find_dotenv())"
   ]
  },
  {
   "cell_type": "code",
   "execution_count": 31,
   "id": "cbcf2751",
   "metadata": {},
   "outputs": [],
   "source": [
    "openai_api_key = os.environ.get(\"OPENAI_API_KEY\")\n",
    "#print(openai_api_key)"
   ]
  },
  {
   "cell_type": "code",
   "execution_count": 14,
   "id": "f7ad537c",
   "metadata": {},
   "outputs": [],
   "source": [
    "from openai import OpenAI\n",
    "client = OpenAI()\n",
    "\n",
    "response = client.chat.completions.create(\n",
    "  model=\"gpt-3.5-turbo\",\n",
    "  messages=[\n",
    "    {\n",
    "      \"role\": \"system\",\n",
    "      \"content\": \"You are my virtual daily quote generator.\"\n",
    "    },\n",
    "    {\n",
    "      \"role\": \"user\",\n",
    "      \"content\": \"Pick a theme for today from the themes below:\\nMotivation: Inspiring quotes to uplift and motivate your audience.\\nSuccess: Quotes about achieving goals, overcoming obstacles, and reaching success.\\nPositivity: Quotes focused on positivity, optimism, and gratitude.\\nWisdom: Thought-provoking quotes offering wisdom, insights, and life lessons.\\nCourage: Quotes about courage, resilience, and facing challenges head-on.\\nGrowth: Quotes that encourage personal growth, self-improvement, and learning.\\nHappiness: Quotes about finding joy, contentment, and happiness in life.\\nLeadership: Inspirational quotes about leadership, influence, and making a difference.\\nLove: Quotes about love, kindness, compassion, and relationships.\\nCreativity: Quotes to spark creativity, innovation, and thinking outside the box.\\n\\nThen generate a creative, funny, and sarcastic quote for today.\\nReturn a json with two keys, Theme and Quote, and nothing else.\"\n",
    "    },\n",
    "  ],\n",
    "  temperature=1.7,\n",
    "  max_tokens=300,\n",
    "  top_p=1,\n",
    "  frequency_penalty=0,\n",
    "  presence_penalty=0\n",
    ")"
   ]
  },
  {
   "cell_type": "code",
   "execution_count": 15,
   "id": "5b1f04ff",
   "metadata": {},
   "outputs": [
    {
     "data": {
      "text/plain": [
       "ChatCompletion(id='chatcmpl-9Ch7Za8YvyMMnahoY0DVTk4lFrAEc', choices=[Choice(finish_reason='stop', index=0, logprobs=None, message=ChatCompletionMessage(content='{\\n    \"Theme\": \"Creativity\",\\n    \"Quote\": \"I put the \\'pro\\' in procrastination. That\\'s how good I am at challenging deadlines creatively.\"\\n}', role='assistant', function_call=None, tool_calls=None))], created=1712812721, model='gpt-3.5-turbo-0125', object='chat.completion', system_fingerprint='fp_b28b39ffa8', usage=CompletionUsage(completion_tokens=36, prompt_tokens=208, total_tokens=244))"
      ]
     },
     "execution_count": 15,
     "metadata": {},
     "output_type": "execute_result"
    }
   ],
   "source": [
    "response\n"
   ]
  },
  {
   "cell_type": "code",
   "execution_count": null,
   "id": "863c6c52",
   "metadata": {},
   "outputs": [],
   "source": []
  }
 ],
 "metadata": {
  "kernelspec": {
   "display_name": "Python 3 (ipykernel)",
   "language": "python",
   "name": "python3"
  },
  "language_info": {
   "codemirror_mode": {
    "name": "ipython",
    "version": 3
   },
   "file_extension": ".py",
   "mimetype": "text/x-python",
   "name": "python",
   "nbconvert_exporter": "python",
   "pygments_lexer": "ipython3",
   "version": "3.9.12"
  }
 },
 "nbformat": 4,
 "nbformat_minor": 5
}
